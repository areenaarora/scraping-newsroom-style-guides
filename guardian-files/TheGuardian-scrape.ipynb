{
 "cells": [
  {
   "cell_type": "code",
   "execution_count": 1,
   "id": "f2170de4",
   "metadata": {},
   "outputs": [],
   "source": [
    "import requests\n",
    "from bs4 import BeautifulSoup"
   ]
  },
  {
   "cell_type": "code",
   "execution_count": 2,
   "id": "02f5d508",
   "metadata": {},
   "outputs": [],
   "source": [
    "def get_alphabet_word_meanings(href):\n",
    "    raw_html = requests.get(href).content\n",
    "    guardian_soup = BeautifulSoup(raw_html, \"html.parser\")\n",
    "    all_definitions = guardian_soup.find_all(\"p\")[4:364]\n",
    "\n",
    "    guardian_list_of_dicts = []\n",
    "\n",
    "    for definitions in all_definitions:\n",
    "        word = definitions.contents[0].text\n",
    "        description = definitions.contents[1:]\n",
    "        word_meaning = \"\"\n",
    "        for each_line_part in description:\n",
    "            word_meaning = word_meaning + str(each_line_part.text).strip()\n",
    "        guardian_list_of_dicts.append(\n",
    "            {\"word_guardian\": word, \"meaning_guardian\": word_meaning}\n",
    "        )\n",
    "\n",
    "    return guardian_list_of_dicts"
   ]
  },
  {
   "cell_type": "code",
   "execution_count": 3,
   "id": "77e9ffb0",
   "metadata": {},
   "outputs": [
    {
     "name": "stdout",
     "output_type": "stream",
     "text": [
      "[{'word_guardian': 'A*', 'meaning_guardian': '(A-level and GCSE) not A-star'}, {'word_guardian': 'A&E', 'meaning_guardian': 'accident and emergency; in the US, it’s ER (emergency room)'}, {'word_guardian': 'abattoir', 'meaning_guardian': ''}]\n",
      "[{'word_guardian': 'BAA', 'meaning_guardian': 'formerly the British Airports Authority'}, {'word_guardian': 'Ba’ath party', 'meaning_guardian': 'it means renaissance or resurrection'}, {'word_guardian': 'Babybel', 'meaning_guardian': 'cheese'}]\n",
      "[{'word_guardian': 'cabin attendant, crew, staff', 'meaning_guardian': 'not air hostesses'}, {'word_guardian': 'cabinet, shadow cabinet', 'meaning_guardian': 'butCabinet Office'}, {'word_guardian': 'caddie', 'meaning_guardian': 'tee;caddytea'}]\n",
      "[{'word_guardian': 'Dad or dad?', 'meaning_guardian': 'capital D if it’s just Dad, eg “I’ll have to ask Dad”; otherwise lowercase, eg “my dad was a dustman, what does your dad do?” etc'}, {'word_guardian': 'dadaism, dadaist', 'meaning_guardian': ''}, {'word_guardian': 'Dáil Éireann', 'meaning_guardian': 'lower house of parliament in the Irish Republic, normally just the Dáil'}]\n",
      "[{'word_guardian': 'The possessive is singular: they shook each other’s hand', 'meaning_guardian': ''}, {'word_guardian': 'EADS', 'meaning_guardian': 'European Aeronautic Defence and Space Company; the group includes the aircraft manufacturer Airbus and is the major partner in the Eurofighter consortium'}, {'word_guardian': 'earlier', 'meaning_guardian': 'often redundant: “they met this week” or “it happened this month” are preferable to “they met earlier this week” or “it happened earlier this month” and will save space'}]\n",
      "[{'word_guardian': 'facade', 'meaning_guardian': 'no cedilla'}, {'word_guardian': 'Facebook', 'meaning_guardian': 'no need to call it “the social networking site” every time – we know what it is'}, {'word_guardian': 'facelift', 'meaning_guardian': ''}]\n",
      "[{'word_guardian': 'Gaddafi, Muammar', 'meaning_guardian': 'former Libyan leader rather than president (he held no government office and was generally known in Libya as “leader of the revolution”); Gaddafi on second mention'}, {'word_guardian': 'Gaelic', 'meaning_guardian': 'when referring to the Scottish language, but use Irish and Welsh for the native languages of those countries'}, {'word_guardian': 'gaff', 'meaning_guardian': 'hook or spar, also slang for house;blow the gaffgive away a secret'}]\n",
      "[{'word_guardian': 'Haaretz', 'meaning_guardian': 'Israeli newspaper; no longer has an apostrophe'}, {'word_guardian': 'Haarlem', 'meaning_guardian': 'the Netherlands;HarlemNew York City'}, {'word_guardian': 'habeas corpus', 'meaning_guardian': ''}]\n",
      "[{'word_guardian': 'ice age', 'meaning_guardian': ''}, {'word_guardian': 'ice-cream', 'meaning_guardian': ''}, {'word_guardian': 'Icelandic names ', 'meaning_guardian': 'Icelandic people are referred to by their first names on second mention eg the former prime minister Jóhanna Sigurðardóttir, then Jóhanna thereafter. This is because last names are typically patronymic, indicating the person is the son or daughter of the father, and are not, like most western last names, an indication of family lineage eg Jóhanna Sigurðardóttir is Jóhanna, the daughter (dóttir) of Sigurðar Egill Ingimundarson. There are occasional exceptions to this so it is always worth checking.'}]\n",
      "[{'word_guardian': 'Jack Daniel’s', 'meaning_guardian': 'note apostrophe; technically it is a Tennessee whiskey, not a bourbon'}, {'word_guardian': 'jack-in-the-box', 'meaning_guardian': 'butjack of all trades'}, {'word_guardian': 'jack russell', 'meaning_guardian': 'terrier first bred by the Rev John Russell in the early 19th century'}]\n",
      "[{'word_guardian': 'Kabbalah', 'meaning_guardian': ''}, {'word_guardian': 'Kadazan-Dusun', 'meaning_guardian': 'two culturally linked indigenous peoples in Sabah, Malaysia;Kadazandusuntheir language'}, {'word_guardian': 'kaffir lime', 'meaning_guardian': 'usemakrut limeinstead; note that it is makrut and not, as Wikipedia has it, makrud. Used in south-east Asian cooking and to flavour drinks'}]\n",
      "[{'word_guardian': 'labour movement', 'meaning_guardian': ''}, {'word_guardian': 'Labour party', 'meaning_guardian': ''}, {'word_guardian': 'La Coruña', 'meaning_guardian': 'Spanish port'}]\n",
      "[{'word_guardian': 'Mac or Mc?', 'meaning_guardian': 'Andie MacDowell (actor), Sue MacGregor (broadcaster), Kelvin MacKenzie (ex-editor), Shirley MacLaine (actor), Murdo MacLeod (photographer).'}, {'word_guardian': 'Sir Cameron Mackintosh (impresario), Elle Macpherson (model).', 'meaning_guardian': ''}, {'word_guardian': 'Sir Paul McCartney (composed song about frogs), Steve McClaren (football manager), Sir Trevor McDonald (ex-newsreader), Ian McEwan (novelist), Ewan McGregor, Sir Ian McKellen (actors), Malcolm McLaren (late impresario)', 'meaning_guardian': ''}]\n",
      "[{'word_guardian': 'nailbomb', 'meaning_guardian': ''}, {'word_guardian': 'naive, naively, naivety', 'meaning_guardian': 'no accent'}, {'word_guardian': 'Nakba', 'meaning_guardian': 'the Palestinian “catastrophe”'}]\n",
      "[{'word_guardian': 'obbligato', 'meaning_guardian': 'not obligato'}, {'word_guardian': 'Obiang', 'meaning_guardian': 'Teodoro Obiang Nguema Mbasogo, president of Equatorial Guinea since 1979; Obiang on second mention'}, {'word_guardian': 'obliged', 'meaning_guardian': 'not “obligated”'}]\n",
      "[{'word_guardian': 'Pacific Ocean', 'meaning_guardian': ''}, {'word_guardian': 'PacifiCorp', 'meaning_guardian': 'part of ScottishPower'}, {'word_guardian': 'Pac-Man', 'meaning_guardian': ''}]\n",
      "[{'word_guardian': 'QC', 'meaning_guardian': 'without comma, eg Cherie Booth QC'}, {'word_guardian': 'QinetiQ', 'meaning_guardian': 'arms company'}, {'word_guardian': 'Qom', 'meaning_guardian': 'city in Iran; it is not compulsory to call it “the holy city of Qom”'}]\n",
      "[{'word_guardian': 'racecard', 'meaning_guardian': 'lists racehorses at a racetrack'}, {'word_guardian': 'race-fixing', 'meaning_guardian': ''}, {'word_guardian': 'RAC Foundation', 'meaning_guardian': 'should be described on first mention as a pro-motoring thinktank'}]\n",
      "[{'word_guardian': 'saccharin', 'meaning_guardian': 'noun;saccharineadjective'}, {'word_guardian': 'sacrilegious', 'meaning_guardian': 'not sacreligious'}, {'word_guardian': 'Sad', 'meaning_guardian': 'seasonal affective disorder'}]\n",
      "[{'word_guardian': 'T', 'meaning_guardian': '(not tee) as in it suited her to a T, he had it down to a T'}, {'word_guardian': 'tableau', 'meaning_guardian': 'pluraltableaux'}, {'word_guardian': 'table d’hote', 'meaning_guardian': ''}]\n",
      "[{'word_guardian': 'Uber', 'meaning_guardian': 'app-based taxi company'}, {'word_guardian': 'U-boat', 'meaning_guardian': ''}, {'word_guardian': 'uc', 'meaning_guardian': 'abbreviation for UPPERCASE but often used to mean initial capital letters'}]\n",
      "[{'word_guardian': 'vagina or vulva?', 'meaning_guardian': 'The vagina is an internal organ, the muscular tubular organ that connects the genitals to the uterus; not the same thing as the vulva, the female genitals.'}, {'word_guardian': 'As the reader who pointed out one of the many examples of our getting this wrong said: “I am sure an article that used the term testicles to describe the penis would be corrected. Why do you accept this error for women?”', 'meaning_guardian': ''}, {'word_guardian': 'vInspired', 'meaning_guardian': 'for the young people’s volunteering organisation formerly justv'}]\n",
      "[{'word_guardian': 'wagon', 'meaning_guardian': 'not waggon'}, {'word_guardian': 'Wags', 'meaning_guardian': 'wives and girlfriends (generally of footballers: the term was popularised during the 2006 World Cup, although Fabio Capello initially banned them from joining the 2010 team in South Africa); the singular is Wag. Regarded by many as sexist, although variations include Habs (husbands and boyfriends)'}, {'word_guardian': 'Wahhabism', 'meaning_guardian': 'branch of Islam practised by followers of the teachings of Muhammad ibn Abd-al-Wahhab (1703-92)'}]\n",
      "[{'word_guardian': 'xenophobe, xenophobia, xenophobic', 'meaning_guardian': ''}, {'word_guardian': 'Xerox', 'meaning_guardian': 'TM; say photocopy'}, {'word_guardian': 'XFM', 'meaning_guardian': 'network of three radio stations: XFM London, XFM Manchester, and XFM Scotland'}]\n"
     ]
    },
    {
     "name": "stdout",
     "output_type": "stream",
     "text": [
      "[{'word_guardian': 'So in most cases, where there is dispute over whether a noun takes a -y or an -ie ending, the correct answer is -ie: she’s a girly girl, but she’s no helpless girlie. Think also scrunchie, beanie, nightie, meanie ... There are exceptions (a hippy, an indie band), but where specific examples are not given, use -ie for nouns and -y for adjectives', 'meaning_guardian': ''}, {'word_guardian': 'Yahoo', 'meaning_guardian': '(the company) no exclamation mark'}, {'word_guardian': 'y’all', 'meaning_guardian': ''}]\n",
      "[{'word_guardian': 'Zapatero, José Luis Rodríguez', 'meaning_guardian': 'Socialist politician who served two four-year terms as prime minister of Spain from 2004'}, {'word_guardian': '-ze', 'meaning_guardian': 'endings: use -se, even if this upsets your (American) spellchecker, eg emphasise, realise; but capsize'}, {'word_guardian': 'zeitgeist', 'meaning_guardian': ''}]\n"
     ]
    }
   ],
   "source": [
    "guardian_main_list = []\n",
    "letters = [\n",
    "    \"a\",\n",
    "    \"b\",\n",
    "    \"c\",\"d\",\"e\", \"f\", \"g\", \"h\", \"i\", \"j\", \"k\", \"l\", \"m\", \"n\", \"o\", \"p\", \"q\", \"r\", \"s\", \"t\", \"u\", \"v\", \"w\", \"x\", \"y\", \"z\"]\n",
    "for alpha in letters:\n",
    "    href = \"https://www.theguardian.com/guardian-observer-style-guide-\" + alpha\n",
    "    alpha_list = get_alphabet_word_meanings(href)\n",
    "    print(alpha_list[0:3])\n",
    "\n",
    "    guardian_main_list.extend(alpha_list)"
   ]
  },
  {
   "cell_type": "code",
   "execution_count": 4,
   "id": "60018991",
   "metadata": {},
   "outputs": [
    {
     "name": "stderr",
     "output_type": "stream",
     "text": [
      "/Users/areena.arora/.pyenv/versions/3.10.0/lib/python3.10/site-packages/pandas/compat/__init__.py:124: UserWarning: Could not import the lzma module. Your installed Python is incomplete. Attempting to use lzma compression will result in a RuntimeError.\n",
      "  warnings.warn(msg)\n"
     ]
    },
    {
     "data": {
      "text/html": [
       "<div>\n",
       "<style scoped>\n",
       "    .dataframe tbody tr th:only-of-type {\n",
       "        vertical-align: middle;\n",
       "    }\n",
       "\n",
       "    .dataframe tbody tr th {\n",
       "        vertical-align: top;\n",
       "    }\n",
       "\n",
       "    .dataframe thead th {\n",
       "        text-align: right;\n",
       "    }\n",
       "</style>\n",
       "<table border=\"1\" class=\"dataframe\">\n",
       "  <thead>\n",
       "    <tr style=\"text-align: right;\">\n",
       "      <th></th>\n",
       "      <th>word_guardian</th>\n",
       "      <th>meaning_guardian</th>\n",
       "    </tr>\n",
       "  </thead>\n",
       "  <tbody>\n",
       "    <tr>\n",
       "      <th>0</th>\n",
       "      <td>A*</td>\n",
       "      <td>(A-level and GCSE) not A-star</td>\n",
       "    </tr>\n",
       "    <tr>\n",
       "      <th>1</th>\n",
       "      <td>A&amp;E</td>\n",
       "      <td>accident and emergency; in the US, it’s ER (emergency room)</td>\n",
       "    </tr>\n",
       "    <tr>\n",
       "      <th>2</th>\n",
       "      <td>abattoir</td>\n",
       "      <td></td>\n",
       "    </tr>\n",
       "    <tr>\n",
       "      <th>3</th>\n",
       "      <td>abbeys</td>\n",
       "      <td>take initial cap, eg Westminster Abbey</td>\n",
       "    </tr>\n",
       "    <tr>\n",
       "      <th>4</th>\n",
       "      <td>Abbottabad</td>\n",
       "      <td>city in Pakistan where Osama bin Laden lived and died</td>\n",
       "    </tr>\n",
       "    <tr>\n",
       "      <th>...</th>\n",
       "      <td>...</td>\n",
       "      <td>...</td>\n",
       "    </tr>\n",
       "    <tr>\n",
       "      <th>4880</th>\n",
       "      <td>złoty</td>\n",
       "      <td>Polish unit of currency</td>\n",
       "    </tr>\n",
       "    <tr>\n",
       "      <th>4881</th>\n",
       "      <td>“zombie drug”</td>\n",
       "      <td>Often used to describe Spice or other substances but best avoided, unless in a direct quote, because of the dehumanising effect of labelling drug users as zombies.</td>\n",
       "    </tr>\n",
       "    <tr>\n",
       "      <th>4882</th>\n",
       "      <td>zoos</td>\n",
       "      <td>lc: London zoo, San Diego zoo, etc</td>\n",
       "    </tr>\n",
       "    <tr>\n",
       "      <th>4883</th>\n",
       "      <td>Zynga</td>\n",
       "      <td></td>\n",
       "    </tr>\n",
       "    <tr>\n",
       "      <th>4884</th>\n",
       "      <td>A</td>\n",
       "      <td>BCDEFGHIJKLMNOPQRSTUVWXYZ</td>\n",
       "    </tr>\n",
       "  </tbody>\n",
       "</table>\n",
       "<p>4885 rows × 2 columns</p>\n",
       "</div>"
      ],
      "text/plain": [
       "      word_guardian  \\\n",
       "0                A*   \n",
       "1               A&E   \n",
       "2          abattoir   \n",
       "3            abbeys   \n",
       "4        Abbottabad   \n",
       "...             ...   \n",
       "4880          złoty   \n",
       "4881  “zombie drug”   \n",
       "4882           zoos   \n",
       "4883          Zynga   \n",
       "4884              A   \n",
       "\n",
       "                                                                                                                                                         meaning_guardian  \n",
       "0                                                                                                                                           (A-level and GCSE) not A-star  \n",
       "1                                                                                                             accident and emergency; in the US, it’s ER (emergency room)  \n",
       "2                                                                                                                                                                          \n",
       "3                                                                                                                                  take initial cap, eg Westminster Abbey  \n",
       "4                                                                                                                   city in Pakistan where Osama bin Laden lived and died  \n",
       "...                                                                                                                                                                   ...  \n",
       "4880                                                                                                                                              Polish unit of currency  \n",
       "4881  Often used to describe Spice or other substances but best avoided, unless in a direct quote, because of the dehumanising effect of labelling drug users as zombies.  \n",
       "4882                                                                                                                                   lc: London zoo, San Diego zoo, etc  \n",
       "4883                                                                                                                                                                       \n",
       "4884                                                                                                                                            BCDEFGHIJKLMNOPQRSTUVWXYZ  \n",
       "\n",
       "[4885 rows x 2 columns]"
      ]
     },
     "execution_count": 4,
     "metadata": {},
     "output_type": "execute_result"
    }
   ],
   "source": [
    "import pandas as pd\n",
    "df_guardian = pd.DataFrame(guardian_main_list)\n",
    "pd.set_option(\"display.max_colwidth\", None)\n",
    "df_guardian"
   ]
  },
  {
   "cell_type": "code",
   "execution_count": 6,
   "id": "b2a9ae4f",
   "metadata": {},
   "outputs": [],
   "source": [
    "# df_guardian.to_excel(\"guardian1.xlsx\")"
   ]
  }
 ],
 "metadata": {
  "kernelspec": {
   "display_name": "Python 3 (ipykernel)",
   "language": "python",
   "name": "python3"
  },
  "language_info": {
   "codemirror_mode": {
    "name": "ipython",
    "version": 3
   },
   "file_extension": ".py",
   "mimetype": "text/x-python",
   "name": "python",
   "nbconvert_exporter": "python",
   "pygments_lexer": "ipython3",
   "version": "3.10.0"
  }
 },
 "nbformat": 4,
 "nbformat_minor": 5
}
