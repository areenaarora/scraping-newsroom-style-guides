{
 "cells": [
  {
   "cell_type": "code",
   "execution_count": 1,
   "id": "5c60c971",
   "metadata": {},
   "outputs": [
    {
     "name": "stderr",
     "output_type": "stream",
     "text": [
      "/Users/areena.arora/.pyenv/versions/3.10.0/lib/python3.10/site-packages/pandas/compat/__init__.py:124: UserWarning: Could not import the lzma module. Your installed Python is incomplete. Attempting to use lzma compression will result in a RuntimeError.\n",
      "  warnings.warn(msg)\n"
     ]
    }
   ],
   "source": [
    "import pandas as pd\n",
    "pd.set_option('display.max_colwidth', None)"
   ]
  },
  {
   "cell_type": "code",
   "execution_count": 2,
   "id": "00e6e5c1",
   "metadata": {},
   "outputs": [],
   "source": [
    "df_bbc = pd.read_excel(\"bbc_cleaned.xlsx\")"
   ]
  },
  {
   "cell_type": "code",
   "execution_count": 3,
   "id": "ff7c8841",
   "metadata": {},
   "outputs": [],
   "source": [
    "df_buzzfeed = pd.read_excel(\"buzzfeed_cleaned.xlsx\")"
   ]
  },
  {
   "cell_type": "code",
   "execution_count": 4,
   "id": "5a29ef85",
   "metadata": {},
   "outputs": [],
   "source": [
    "df_npr = pd.read_excel(\"npr_cleaned.xlsx\")"
   ]
  },
  {
   "cell_type": "code",
   "execution_count": 5,
   "id": "9af2fb1b",
   "metadata": {},
   "outputs": [],
   "source": [
    "df_guardian = pd.read_excel(\"guardian_cleaned.xlsx\")"
   ]
  },
  {
   "cell_type": "code",
   "execution_count": 6,
   "id": "b335968e",
   "metadata": {},
   "outputs": [],
   "source": [
    "df_reuters = pd.read_excel('reuters_cleaned.xlsx')"
   ]
  },
  {
   "cell_type": "code",
   "execution_count": 7,
   "id": "1167bb1d",
   "metadata": {},
   "outputs": [],
   "source": [
    "import re"
   ]
  },
  {
   "cell_type": "code",
   "execution_count": 8,
   "id": "851420d5",
   "metadata": {},
   "outputs": [
    {
     "name": "stdout",
     "output_type": "stream",
     "text": [
      "Enter your word here: terror\n",
      "      Unnamed: 0       word_bbc  \\\n",
      "971          972      terrorist   \n",
      "1045        1046  war on terror   \n",
      "\n",
      "                                                                                                                                                                                                                                                                                                                                                                                                                                                                                                                                                                                                                                                                                                                                                                                                                                                                                                                                                                                                                                                                                                                                                                                                                                                                                                                                                                                                                                                                                                                                                                                                                                                                                                                                                                                                                                                                                                          meaning_bbc  \n",
      "971   The word \"terrorist\" is not banned, but its use can be a barrier rather than an aid to understanding. We should try to avoid the use of the term without attribution. We should convey to our audience the full consequences of the act by describing what happened. We should use words which specifically describe the perpetrator such as bomber, attacker, gunman, kidnapper, insurgent and militant. We should not adopt other people's language as our own. Our responsibility is to remain objective and report in ways that enable our audiences to make their own assessments about who is doing what to whom.\\n\\nWhile care is needed when describing perpetrators, an action or event can be described as a terror attack or an act of terror.\\n\\nWhen we do use the term we should strive to do so with consistency in the stories we report across all our services, and in a way that does not undermine our reputation for objectivity and accuracy. It is also very important that we strive for consistency across the international and UK facing sites. If a BBC World story uses very measured language but a UK version does not, a user will rightly question the different approaches.\\n\\nBeware of paraphrasing and selective quotation, eg: “The Israeli prime minister said that while ‘terrorist’ attacks continued he would not back down.” Putting the single word \"terrorist\" in quotes may give the impression that the BBC is sceptical about the prime minister’s assessment of the nature of the attacks.\\n\\nDomestically, we tread a similar line on Northern Ireland. The IRA is so well known, worldwide, that a label is not necessary. Groups such as the Real IRA and Continuity IRA can often be best labelled as dissident. A second reference to organisations such as the UFF and UVF could be along the lines of: The loyalist paramilitary organisation warned...  \n",
      "1045                                                                                                                                                                                                                                                                                                                                                                                                                                                                                                                                                                                                                                                                                                                                                                                                                                                                                                                                                                                                                                                                                                                                                                                                                                                                                                                                                                                                                                                                                         This policy is associated primarily with the administration of US President George W Bush. It will usually be preferable to use a more general phrase - eg: the international fight against terrorism.When referring to the policy, it should always be lower case and in inverted commas or attributed, whether in copy or headlines, ie “war on terror” or ...what the Bush administration called the war on terror...  \n",
      "\n",
      " --\n",
      "Empty DataFrame\n",
      "Columns: [Unnamed: 0, word_buzzfeed, meaning_buzzfeed]\n",
      "Index: []\n",
      "\n",
      " --\n",
      "     Unnamed: 0          word_npr  \\\n",
      "405         406         terrorism   \n",
      "436         437  war on terrorism   \n",
      "\n",
      "                                                                                                                                                                                                                                                                                                           meaning_npr  \n",
      "405  not terror. For example: Al-Qaida is a terrorism network. The United States is fighting a war on terrorism. Zacarias Moussaoui is a confessed terrorism conspirator. The detainees at Guantanamo are suspected terrorists, suspected of terrorism and causing terror in people, but they are not terror suspects.  \n",
      "436                                                                                                                                                                                                                                                                                                  not war on terror  \n",
      "\n",
      " --\n",
      "      Unnamed: 0                    word_guardian  \\\n",
      "3968        3969            terrorism, terrorists   \n",
      "4269        4270  “war on drugs”, “war on terror”   \n",
      "\n",
      "                                                                                                                                                                                                                                                                                                                                                                                                                                                                                                                                                                                                                                                                                                                                                                                                                                                                                                                                                                                                                                                                                                                                                                                                                                                                                                                                                                                                                                                                                                                                                                                                                                                                                                                                                                                                                                                                                                                                                                                                                                           meaning_guardian  \n",
      "3968  A terrorist act is directed against victims chosen either randomly or as symbols of what is being opposed (eg workers in the World Trade Center, tourists in Bali, Spanish commuters). It is designed to create a state of terror in the minds of a particular group of people or the public as a whole for political or social ends. Although most terrorist acts are violent, you can be a terrorist without being overtly violent (eg poisoning a water supply or gassing people on the underground).\\n\\nDoes having a good cause make a difference? The UN says no: “Criminal acts calculated to provoke a state of terror in the general public are in any circumstances unjustifiable, whatever the considerations of a political, philosophical, ideological, racial, ethnic, religious or other nature that may be invoked to justify them.”\\n\\nWhatever one’s political sympathies, suicide bombers, the 9/11 attackers and most paramilitary groups can all reasonably be regarded as terrorists (or at least groups some of whose members perpetrate terrorist acts).\\n\\nNonetheless we need to be very careful about using the term: it is still a subjective judgment – one person’s terrorist may be another person’s freedom fighter, and there are former “terrorists” holding elected office in many parts of the world. Some critics suggest that, for the Guardian, all terrorists are militants – unless their victims are British. Others may point to what they regard as “state terrorism”. Often, alternatives such as militants, radicals, separatists, etc, may be more appropriate and less controversial, but this is a difficult area: references to the “resistance”, for example, imply more sympathy to a cause than calling such fighters “insurgents”. The most important thing is that, in news reporting, we are not seen – because of the language we use – to be taking sides.\\n\\nNote that the phrase “war on terror” should always appear in quotes, whether used by us or (more likely) quoting someone else  \n",
      "4269                                                                                                                                                                                                                                                                                                                                                                                                                                                                                                                                                                                                                                                                                                                                                                                                                                                                                                                                                                                                                                                                                                                                                                                                                                                                                                                                                                                                                                                                                                                                                                                                                                                                                                                                                                                                                                                                                                                                                                                                                                       always in quotes  \n",
      "\n",
      " --\n",
      "      Unnamed: 0   word_reuters  \\\n",
      "1805        1806      terrorism   \n",
      "1936        1937  war on terror   \n",
      "\n",
      "                                                                                                                                                                                                                                                                                                                                                                                                                                                                                                                                                                                                                                                                                                                                                                                                                                                                                                                                                                                                                                                                                                                                                                                                         meaning_reuters  \n",
      "1805  We may refer without attribution to terrorism and counter-terrorism in general but do not refer to specific events as terrorism. Nor do we use the adjective word terrorist without attribution to qualify specific individuals, groups or events. Terrorism and terrorist must be retained when quoting someone in direct speech. When quoting someone in indirect speech, care must be taken with sentence structure to ensure it is entirely clear that they are the source's words and not a label.Terrorism and terrorist should not be used as single words in inverted commas (e.g. \"terrorist\") or preceded by so-called (e.g. a so-called terrorist attack) since that can be taken to imply a value judgment. Use a fuller quote if necessary. Terror as in terror attack or terror cell should be avoided, except in direct quotes.Report the subjects of news stories objectively, their actions, identity and background. Aim for a dispassionate use of language so that individuals, organisations and governments can make their own judgment on the basis of facts. Seek to use more specific terms like bomber , or bombing ,hijacker or hijacking , attacker or attacks , gunman or gunmen etc.  \n",
      "1936                                                                                                                                                                                                                                                                                                                                                                                                                                                                                                                                                                                                                                                                                                                                                                                                                                                                                                                                                                                                                                                                                            Do not use this phrase unless in a quote. It is poor English and part of the propaganda battle around militant violence.  \n"
     ]
    }
   ],
   "source": [
    "word_to_look = input(\"Enter your word here: \")\n",
    "def get_style_direction(word_to_look):\n",
    "    print(df_bbc[df_bbc.word_bbc.str.contains(word_to_look, case=False)])\n",
    "    print('\\n --')\n",
    "    print(df_buzzfeed[df_buzzfeed.word_buzzfeed.str.contains(word_to_look, case=False)])\n",
    "    print('\\n --')\n",
    "    print(df_npr[df_npr.word_npr.str.contains(word_to_look, case=False)])\n",
    "    print('\\n --')\n",
    "    print(df_guardian[df_guardian.word_guardian.str.contains(word_to_look, case=False)])\n",
    "    print('\\n --')\n",
    "    print(df_reuters[df_reuters.word_reuters.str.contains(word_to_look, case=False)])\n",
    "    \n",
    "get_style_direction(word_to_look)"
   ]
  },
  {
   "cell_type": "code",
   "execution_count": null,
   "id": "3e890f10",
   "metadata": {},
   "outputs": [],
   "source": []
  }
 ],
 "metadata": {
  "kernelspec": {
   "display_name": "Python 3 (ipykernel)",
   "language": "python",
   "name": "python3"
  },
  "language_info": {
   "codemirror_mode": {
    "name": "ipython",
    "version": 3
   },
   "file_extension": ".py",
   "mimetype": "text/x-python",
   "name": "python",
   "nbconvert_exporter": "python",
   "pygments_lexer": "ipython3",
   "version": "3.10.0"
  }
 },
 "nbformat": 4,
 "nbformat_minor": 5
}
