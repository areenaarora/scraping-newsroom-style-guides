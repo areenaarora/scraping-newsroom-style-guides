{
 "cells": [
  {
   "cell_type": "code",
   "execution_count": 1,
   "id": "5c60c971",
   "metadata": {},
   "outputs": [
    {
     "name": "stderr",
     "output_type": "stream",
     "text": [
      "/Users/areena.arora/.pyenv/versions/3.10.0/lib/python3.10/site-packages/pandas/compat/__init__.py:124: UserWarning: Could not import the lzma module. Your installed Python is incomplete. Attempting to use lzma compression will result in a RuntimeError.\n",
      "  warnings.warn(msg)\n"
     ]
    }
   ],
   "source": [
    "import pandas as pd\n",
    "pd.set_option('display.max_colwidth', None)"
   ]
  },
  {
   "cell_type": "code",
   "execution_count": 2,
   "id": "00e6e5c1",
   "metadata": {},
   "outputs": [],
   "source": [
    "df_bbc = pd.read_excel(\"bbc_cleaned.xlsx\")"
   ]
  },
  {
   "cell_type": "code",
   "execution_count": 3,
   "id": "ff7c8841",
   "metadata": {},
   "outputs": [],
   "source": [
    "df_buzzfeed = pd.read_excel(\"buzzfeed_cleaned.xlsx\")"
   ]
  },
  {
   "cell_type": "code",
   "execution_count": 4,
   "id": "5a29ef85",
   "metadata": {},
   "outputs": [],
   "source": [
    "df_npr = pd.read_excel(\"npr_cleaned.xlsx\")"
   ]
  },
  {
   "cell_type": "code",
   "execution_count": 5,
   "id": "9af2fb1b",
   "metadata": {},
   "outputs": [],
   "source": [
    "df_guardian = pd.read_excel(\"guardian_cleaned.xlsx\")"
   ]
  },
  {
   "cell_type": "code",
   "execution_count": 6,
   "id": "b335968e",
   "metadata": {},
   "outputs": [],
   "source": [
    "df_reuters = pd.read_excel('reuters_cleaned.xlsx')"
   ]
  },
  {
   "cell_type": "code",
   "execution_count": 7,
   "id": "1167bb1d",
   "metadata": {},
   "outputs": [],
   "source": [
    "import re"
   ]
  },
  {
   "cell_type": "code",
   "execution_count": 9,
   "id": "851420d5",
   "metadata": {},
   "outputs": [
    {
     "name": "stdout",
     "output_type": "stream",
     "text": [
      "Enter your word here: told\n",
      "Empty DataFrame\n",
      "Columns: [Unnamed: 0, word_bbc, meaning_bbc]\n",
      "Index: []\n",
      "\n",
      " --\n",
      "Empty DataFrame\n",
      "Columns: [Unnamed: 0, word_buzzfeed, meaning_buzzfeed]\n",
      "Index: []\n",
      "\n",
      " --\n",
      "Empty DataFrame\n",
      "Columns: [Unnamed: 0, word_npr, meaning_npr]\n",
      "Index: []\n",
      "\n",
      " --\n",
      "      Unnamed: 0      word_guardian  \\\n",
      "4026        4027  told the Guardian   \n",
      "\n",
      "                                                                                                                                                                                                      meaning_guardian  \n",
      "4026  is used far too often: it should normally be replaced by “said” and reserved for occasions when it genuinely adds interest or authority to a story (if someone got an exclusive interview with, say, Lord Lucan)  \n",
      "\n",
      " --\n",
      "      Unnamed: 0    word_reuters  \\\n",
      "1825        1826  told reporters   \n",
      "1826        1827    told Reuters   \n",
      "\n",
      "                                                                                                                                                                                                                                                                                                                                                                                meaning_reuters  \n",
      "1825                                                                                                                                                                                                                                                        Use this only when the source is speaking informally to a group of reporters. If he or she is addressing a news conference, say so.  \n",
      "1826  Use this phrase only when we are being given significant information or an interview on an exclusive basis. Otherwise it is told reporters or told a news conference. If we get information on the basis of a telephone call to an official spokesman/spokeswoman who would make the same information available to anyone who called, we need simply say the spokesman/ spokeswoman said.  \n"
     ]
    }
   ],
   "source": [
    "word_to_look = input(\"Enter your word here: \")\n",
    "def get_style_direction(word_to_look):\n",
    "    print(df_bbc[df_bbc.word_bbc.str.contains(word_to_look, case=False)])\n",
    "    print('\\n --')\n",
    "    print(df_buzzfeed[df_buzzfeed.word_buzzfeed.str.contains(word_to_look, case=False)])\n",
    "    print('\\n --')\n",
    "    print(df_npr[df_npr.word_npr.str.contains(word_to_look, case=False)])\n",
    "    print('\\n --')\n",
    "    print(df_guardian[df_guardian.word_guardian.str.contains(word_to_look, case=False)])\n",
    "    print('\\n --')\n",
    "    print(df_reuters[df_reuters.word_reuters.str.contains(word_to_look, case=False)])\n",
    "    \n",
    "get_style_direction(word_to_look)"
   ]
  },
  {
   "cell_type": "code",
   "execution_count": null,
   "id": "3e890f10",
   "metadata": {},
   "outputs": [],
   "source": []
  }
 ],
 "metadata": {
  "kernelspec": {
   "display_name": "Python 3 (ipykernel)",
   "language": "python",
   "name": "python3"
  },
  "language_info": {
   "codemirror_mode": {
    "name": "ipython",
    "version": 3
   },
   "file_extension": ".py",
   "mimetype": "text/x-python",
   "name": "python",
   "nbconvert_exporter": "python",
   "pygments_lexer": "ipython3",
   "version": "3.10.0"
  }
 },
 "nbformat": 4,
 "nbformat_minor": 5
}
