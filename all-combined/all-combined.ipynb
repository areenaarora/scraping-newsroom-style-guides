{
 "cells": [
  {
   "cell_type": "code",
   "execution_count": null,
   "id": "5c60c971",
   "metadata": {},
   "outputs": [],
   "source": [
    "import pandas as pd\n",
    "pd.set_option('display.max_colwidth', None)"
   ]
  },
  {
   "cell_type": "code",
   "execution_count": null,
   "id": "00e6e5c1",
   "metadata": {},
   "outputs": [],
   "source": [
    "df_bbc = pd.read_excel(\"bbc_cleaned.xlsx\")"
   ]
  },
  {
   "cell_type": "code",
   "execution_count": null,
   "id": "ff7c8841",
   "metadata": {},
   "outputs": [],
   "source": [
    "df_buzzfeed = pd.read_excel(\"buzzfeed_cleaned.xlsx\")"
   ]
  },
  {
   "cell_type": "code",
   "execution_count": null,
   "id": "5a29ef85",
   "metadata": {},
   "outputs": [],
   "source": [
    "df_npr = pd.read_excel(\"npr_cleaned.xlsx\")"
   ]
  },
  {
   "cell_type": "code",
   "execution_count": null,
   "id": "9af2fb1b",
   "metadata": {},
   "outputs": [],
   "source": [
    "df_guardian = pd.read_excel(\"guardian_cleaned.xlsx\")"
   ]
  },
  {
   "cell_type": "code",
   "execution_count": null,
   "id": "b335968e",
   "metadata": {},
   "outputs": [],
   "source": [
    "df_reuters = pd.read_excel('reuters_cleaned.xlsx')"
   ]
  },
  {
   "cell_type": "code",
   "execution_count": null,
   "id": "1167bb1d",
   "metadata": {},
   "outputs": [],
   "source": [
    "import re"
   ]
  },
  {
   "cell_type": "code",
   "execution_count": null,
   "id": "851420d5",
   "metadata": {},
   "outputs": [],
   "source": [
    "word_to_look = input(\"Enter your word here: \")\n",
    "def get_style_direction(word_to_look):\n",
    "    print(df_bbc[df_bbc.word_bbc.str.contains(word_to_look, case=False)])\n",
    "    print('\\n --')\n",
    "    print(df_buzzfeed[df_buzzfeed.word_buzzfeed.str.contains(word_to_look, case=False)])\n",
    "    print('\\n --')\n",
    "    print(df_npr[df_npr.word_npr.str.contains(word_to_look, case=False)])\n",
    "    print('\\n --')\n",
    "    print(df_guardian[df_guardian.word_guardian.str.contains(word_to_look, case=False)])\n",
    "    print('\\n --')\n",
    "    print(df_reuters[df_reuters.word_reuters.str.contains(word_to_look, case=False)])\n",
    "    \n",
    "get_style_direction(word_to_look)"
   ]
  }
 ],
 "metadata": {
  "kernelspec": {
   "display_name": "Python 3 (ipykernel)",
   "language": "python",
   "name": "python3"
  },
  "language_info": {
   "codemirror_mode": {
    "name": "ipython",
    "version": 3
   },
   "file_extension": ".py",
   "mimetype": "text/x-python",
   "name": "python",
   "nbconvert_exporter": "python",
   "pygments_lexer": "ipython3",
   "version": "3.10.0"
  }
 },
 "nbformat": 4,
 "nbformat_minor": 5
}
